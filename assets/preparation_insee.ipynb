{
 "cells": [
  {
   "cell_type": "markdown",
   "id": "827a5e79-b401-4433-b07a-95c5bea4d425",
   "metadata": {},
   "source": [
    "# Préparation des données de l'INSEE"
   ]
  },
  {
   "cell_type": "code",
   "execution_count": 1,
   "id": "9da591d1-7e23-49c2-9507-b7231fdfd6e7",
   "metadata": {},
   "outputs": [],
   "source": [
    "import csv\n",
    "import json\n",
    "import cbor2"
   ]
  },
  {
   "cell_type": "code",
   "execution_count": 2,
   "id": "3335a0a3-bd6f-4abc-a3fe-3daac5e060e2",
   "metadata": {},
   "outputs": [],
   "source": [
    "IN_FILE = \"communes-france-2025.csv\"\n",
    "with open(IN_FILE, newline='') as csvfile:\n",
    "    insee_data = list(csv.DictReader(csvfile))"
   ]
  },
  {
   "cell_type": "code",
   "execution_count": 8,
   "id": "178ae059-fb9e-4e88-8afe-36adb23b7a33",
   "metadata": {},
   "outputs": [],
   "source": [
    "with open('example_response_2021.json', 'r') as f:\n",
    "    data_2021 = json.load(f)\n",
    "previous = dict()\n",
    "for commune in data_2021[\"features\"]:\n",
    "    code = commune[\"properties\"][\"insee\"]\n",
    "    name = commune[\"properties\"][\"name\"]\n",
    "    contributions = commune[\"properties\"][\"contributions\"]\n",
    "    previous[code] = contributions\n",
    "\n",
    "OUT_FILE = \"communes_insee.cbor\"\n",
    "communes = list()   \n",
    "for row in insee_data:\n",
    "    code = row[\"code_insee\"]\n",
    "    communes.append((\n",
    "        code,\n",
    "        # nom\n",
    "        row[\"nom_standard\"],\n",
    "        # population >= 5000\n",
    "        int(row[\"population\"]) >= 5000,\n",
    "        # previous contributions, if any\n",
    "        previous.get(code, 0),\n",
    "        ))\n",
    "with open(OUT_FILE, \"wb\") as f:\n",
    "    cbor2.dump(communes, f)"
   ]
  },
  {
   "cell_type": "code",
   "execution_count": 4,
   "id": "b03fc99c-7dbd-4475-be53-4bae5e4909d1",
   "metadata": {},
   "outputs": [],
   "source": [
    "dep_codes = dict()\n",
    "problems = list()\n",
    "for row in insee_data:\n",
    "    dep_code = row[\"dep_code\"]\n",
    "    dep_name = row[\"dep_nom\"]\n",
    "    if dep_name != dep_codes.get(dep_code, dep_name):\n",
    "        problems.append((dep_code, dep_name))\n",
    "        print(f\"problem: {dep_code} {dep_name}\")\n",
    "    dep_codes[dep_code] = dep_name\n",
    "len(dep_codes)\n",
    "with open('departements.cbor', \"wb\") as f:\n",
    "    cbor2.dump(dep_codes, f)"
   ]
  },
  {
   "cell_type": "code",
   "execution_count": 7,
   "id": "502a3840-015a-419d-bd08-2b93c3942a02",
   "metadata": {},
   "outputs": [
    {
     "name": "stdout",
     "output_type": "stream",
     "text": [
      "-rw-rw-r-- 1 daan daan 651K Mar 19 15:09 codes_insee.cbor\n",
      "-rw-rw-r-- 1 daan daan 1.4K Mar 19 16:08 departements.cbor\n",
      "-rw-rw-r-- 1 daan daan 755K Mar 19 16:37 communes_insee.cbor\n"
     ]
    }
   ],
   "source": [
    "!ls -ltrh *.cbor"
   ]
  }
 ],
 "metadata": {
  "kernelspec": {
   "display_name": "Python 3 (ipykernel)",
   "language": "python",
   "name": "python3"
  },
  "language_info": {
   "codemirror_mode": {
    "name": "ipython",
    "version": 3
   },
   "file_extension": ".py",
   "mimetype": "text/x-python",
   "name": "python",
   "nbconvert_exporter": "python",
   "pygments_lexer": "ipython3",
   "version": "3.13.2"
  }
 },
 "nbformat": 4,
 "nbformat_minor": 5
}
